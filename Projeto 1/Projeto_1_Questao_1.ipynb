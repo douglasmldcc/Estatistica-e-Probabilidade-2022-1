{
  "nbformat": 4,
  "nbformat_minor": 0,
  "metadata": {
    "colab": {
      "provenance": [],
      "collapsed_sections": [],
      "authorship_tag": "ABX9TyNzN/XrYrqBwgm0p/6h7xjD",
      "include_colab_link": true
    },
    "kernelspec": {
      "name": "python3",
      "display_name": "Python 3"
    },
    "language_info": {
      "name": "python"
    }
  },
  "cells": [
    {
      "cell_type": "markdown",
      "metadata": {
        "id": "view-in-github",
        "colab_type": "text"
      },
      "source": [
        "<a href=\"https://colab.research.google.com/github/douglasmldcc/Estat-stica-e-Probabilidade-2022.1/blob/main/Projeto_1_Questao_1.ipynb\" target=\"_parent\"><img src=\"https://colab.research.google.com/assets/colab-badge.svg\" alt=\"Open In Colab\"/></a>"
      ]
    },
    {
      "cell_type": "markdown",
      "source": [
        "Bibliotecas e propriedades"
      ],
      "metadata": {
        "id": "vfc8FahWUeqG"
      }
    },
    {
      "cell_type": "code",
      "source": [
        "from random import seed\n",
        "from random import randint\n",
        "from random import SystemRandom\n",
        "import numpy as np\n",
        "import matplotlib.pyplot as plt\n",
        "\n",
        "seed(1)"
      ],
      "metadata": {
        "id": "SzK2tmBy9ray"
      },
      "execution_count": 1,
      "outputs": []
    },
    {
      "cell_type": "markdown",
      "source": [
        "Algoritmo Y"
      ],
      "metadata": {
        "id": "2ksVD61sVd3Q"
      }
    },
    {
      "cell_type": "code",
      "execution_count": 2,
      "metadata": {
        "id": "6nRcLh-J3uen"
      },
      "outputs": [],
      "source": [
        "# Criando a função que descreve a variavel Y\n",
        "def Y():\n",
        "  #Array que armazena os passos, utilidade na plotagem de dados\n",
        "  Passos=[]\n",
        "  #Dado que a particula esta inicialmente no vertice 0\n",
        "  passo=0\n",
        "  i=0\n",
        "  Posicao = [False,False,False,False,False,False,False,False,False,False,False,False]\n",
        "  # Variavel condição que vai validar se o vertice foi visitado\n",
        "  condicao = all(Posicao) \n",
        "  # Loop que termina quando a condicao se faz verdadeira\n",
        "  while (condicao==False):\n",
        "  #Decide a direcao no inicio do Loop\n",
        "    dir = SystemRandom().randint(0, 1)\n",
        "  #Loop para posicao zero, caso voltar ir para posicao 11\n",
        "    if i==0:\n",
        "      if dir==0:\n",
        "        i=11\n",
        "      else:\n",
        "        i+=1\n",
        "      Posicao[i]=True   \n",
        "  #Loop para posicao 11, caso voltar ir para posicao 0\n",
        "    elif i==11:\n",
        "      if dir==1:\n",
        "        i=0\n",
        "      else:\n",
        "        i+=-1\n",
        "      Posicao[i]=True\n",
        "  #Loop para qualquer posicao, pode ir e voltar livremente\n",
        "    else:  \n",
        "      if dir==1:\n",
        "        i+=1\n",
        "      else:\n",
        "        i+=-1\n",
        "      Posicao[i]=True\n",
        "  #Append no Array de passos\n",
        "    passo+=1\n",
        "    Passos.append(passo)\n",
        "  #Teste se todas as posicoes foram visitadas\n",
        "    condicao = all(Posicao)\n",
        "  #Retorna o numero de passos que levaram para conclusão\n",
        "  return (len(Passos))"
      ]
    },
    {
      "cell_type": "code",
      "source": [
        "Y()"
      ],
      "metadata": {
        "colab": {
          "base_uri": "https://localhost:8080/"
        },
        "id": "jcCY_b44VO_a",
        "outputId": "8160666f-4fe7-4ca2-816d-94e0d7857f51"
      },
      "execution_count": 5,
      "outputs": [
        {
          "output_type": "execute_result",
          "data": {
            "text/plain": [
              "62"
            ]
          },
          "metadata": {},
          "execution_count": 5
        }
      ]
    },
    {
      "cell_type": "markdown",
      "source": [
        "Algoritmo Ey\n"
      ],
      "metadata": {
        "id": "0taHTbXJViCS"
      }
    },
    {
      "cell_type": "code",
      "source": [
        "# Criando a função Ey, que vai armazenar o valor esperado de Y em N interações\n",
        "def Ey(N):\n",
        "  #Array que funciona com o espaço amostral de Y\n",
        "  OmegaY=[]\n",
        "  #Loop que executa a função Y N vezes\n",
        "  for n in range(N+1):\n",
        "    # Cade iteração o valor esta sendo armazenado\n",
        "    OmegaY.append(Y())\n",
        "  return sum(OmegaY) / N"
      ],
      "metadata": {
        "id": "UPXpm6vgQYe1"
      },
      "execution_count": 6,
      "outputs": []
    },
    {
      "cell_type": "code",
      "source": [
        "Ey(5000)"
      ],
      "metadata": {
        "colab": {
          "base_uri": "https://localhost:8080/"
        },
        "id": "CUrS0gj3a9SX",
        "outputId": "624ec765-37b8-4871-95f4-b6f36aa224ea"
      },
      "execution_count": 8,
      "outputs": [
        {
          "output_type": "execute_result",
          "data": {
            "text/plain": [
              "66.7834"
            ]
          },
          "metadata": {},
          "execution_count": 8
        }
      ]
    }
  ]
}