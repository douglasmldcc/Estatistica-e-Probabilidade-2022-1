{
  "nbformat": 4,
  "nbformat_minor": 0,
  "metadata": {
    "colab": {
      "provenance": []
    },
    "kernelspec": {
      "name": "python3",
      "display_name": "Python 3"
    },
    "language_info": {
      "name": "python"
    }
  },
  "cells": [
    {
      "cell_type": "code",
      "execution_count": null,
      "metadata": {
        "id": "u0unkcRDHn1H"
      },
      "outputs": [],
      "source": [
        "import random as random\n",
        "from random import seed\n",
        "from random import randint\n",
        "from random import SystemRandom\n",
        "import numpy as np\n",
        "import matplotlib.pyplot as plt"
      ]
    },
    {
      "cell_type": "code",
      "source": [
        "#Probabilidade de 25% == 1/4\n",
        "#Probabilidade de 33.3333% == 1/3\n",
        "#Probabilidade de 50% == 1/2"
      ],
      "metadata": {
        "id": "NwTgAaC4HsiY"
      },
      "execution_count": null,
      "outputs": []
    },
    {
      "cell_type": "code",
      "source": [
        "# Criação da função Pulos que recebe o parametro casa, que é a casa em que o inseto começa \n",
        "def Pulos(casa):\n",
        "  #Armadilha ainda desativada \n",
        "  armadilha=False\n",
        "  #Contagem de saltos, armadilhas e visitas a casa 5\n",
        "  Pulo=0\n",
        "  TrapA=0\n",
        "  TrapB=0\n",
        "  Visita5=0\n",
        "  #Ciclo que acompanha o inseto até ser pego pela armadilha\n",
        "  while(armadilha==False):\n",
        "    if casa==1:\n",
        "      armadilha=True\n",
        "      #Modificação para contagem de capturas pela armadilha A\n",
        "      TrapA+=1\n",
        "    elif casa==2:  \n",
        "      #Dado pela matriz de transição a probabilidade nas casas 2,4,6,8 tem probabilidade de 1/3 para as casa adjacentes\n",
        "      casa= random.SystemRandom().choice([1,3,5])\n",
        "      Pulo+=1\n",
        "    elif casa==3:\n",
        "      #Dado pela matriz de transição a probabilidade nas casas 3,7 tem probabilidade de 1/2 para as casa adjacentes\n",
        "      casa= random.SystemRandom().choice([2,6])\n",
        "      Pulo+=1\n",
        "    elif casa==4:\n",
        "      #Dado pela matriz de transição a probabilidade nas casas 2,4,6,8 tem probabilidade de 1/3 para as casa adjacentes\n",
        "      casa= random.SystemRandom().choice([1,5,7])\n",
        "      Pulo+=1\n",
        "    elif casa==5:\n",
        "      #Dado pela matriz de transição a probabilidade na casa 5 tem probabilidade de 1/4 para as casa adjacentes\n",
        "      casa=random.SystemRandom().choice([2,4,6,8])\n",
        "      Pulo+=1\n",
        "      Visita5+=1\n",
        "    elif casa==6:\n",
        "      #Dado pela matriz de transição a probabilidade nas casas 2,4,6,8 tem probabilidade de 1/3 para as casa adjacentes\n",
        "      casa= random.SystemRandom().choice([3,5,9])\n",
        "      Pulo+=1\n",
        "    elif casa==7:\n",
        "      #Dado pela matriz de transição a probabilidade nas casas 3,7 tem probabilidade de 1/2 para as casa adjacentes\n",
        "      casa=random.SystemRandom().choice([4,8])\n",
        "      Pulo+=1\n",
        "    elif casa==8:\n",
        "      #Dado pela matriz de transição a probabilidade nas casas 2,4,6,8 tem probabilidade de 1/3 para as casa adjacentes\n",
        "      casa= random.SystemRandom().choice([5,7,9])\n",
        "      Pulo+=1\n",
        "    elif casa==9:\n",
        "      armadilha=True\n",
        "      #Modificação para contagem de capturas pela armadilha A\n",
        "      TrapB+=1\n",
        "\n",
        "  return Pulo, TrapA, TrapB, Visita5"
      ],
      "metadata": {
        "id": "4flTeZgjLxei"
      },
      "execution_count": null,
      "outputs": []
    },
    {
      "cell_type": "code",
      "source": [
        "Pulos(5)"
      ],
      "metadata": {
        "colab": {
          "base_uri": "https://localhost:8080/"
        },
        "id": "jbpVDHN-YVaY",
        "outputId": "52c29753-0234-4524-e5aa-e9d7492d4a41"
      },
      "execution_count": null,
      "outputs": [
        {
          "output_type": "execute_result",
          "data": {
            "text/plain": [
              "(6, 0, 1, 3)"
            ]
          },
          "metadata": {},
          "execution_count": 4
        }
      ]
    },
    {
      "cell_type": "code",
      "source": [
        "# Criando a função de media de capturas de cada armadilha, recebendo o parametro de interações desejadas \n",
        "def MediaArmadilhas(N):\n",
        "  #Loop que avança a partir da casa 2 até a casa 9\n",
        "  for i in range(2,9):\n",
        "    TrpA=[]\n",
        "    TrpB=[]\n",
        "    #Loop que salva os valores das armadilhas\n",
        "    for j in range(N):\n",
        "      #Resgata uma tupla com os valores obtido nas simulações \n",
        "      Resultado = Pulos(i)\n",
        "      TrpA.append(Resultado[1])\n",
        "      TrpB.append(Resultado[2])\n",
        "    #Calculando a porcentagem de cada armadilha ativada no espaço N\n",
        "    MediaA=(sum(TrpA) / N)*100\n",
        "    MediaB=(sum(TrpB) / N)*100\n",
        "    #Formatando as variaveis para duas casas decimais no print\n",
        "    FMediaA = \"{:.2f}\".format(MediaA)\n",
        "    FMediaB = \"{:.2f}\".format(MediaB)\n",
        "    print(\"Partindo da casa\",i,\"Com\",N,\"Interações\")\n",
        "    print(\"Captura pela Armadilha A =\",FMediaA,\"% - Captura pela Armadilha B =\",FMediaB,\"%\")"
      ],
      "metadata": {
        "id": "-2mC-XyETM3S"
      },
      "execution_count": null,
      "outputs": []
    },
    {
      "cell_type": "code",
      "source": [
        "MediaArmadilhas(5000)"
      ],
      "metadata": {
        "colab": {
          "base_uri": "https://localhost:8080/"
        },
        "id": "72xVdsQsgz0E",
        "outputId": "27738432-c9ff-4815-c079-88aeedce9473"
      },
      "execution_count": null,
      "outputs": [
        {
          "output_type": "stream",
          "name": "stdout",
          "text": [
            "Partindo da casa 2 Com 5000 Interações\n",
            "Captura pela Armadilha A = 67.24 % - Captura pela Armadilha B = 32.76 %\n",
            "Partindo da casa 3 Com 5000 Interações\n",
            "Captura pela Armadilha A = 50.54 % - Captura pela Armadilha B = 49.46 %\n",
            "Partindo da casa 4 Com 5000 Interações\n",
            "Captura pela Armadilha A = 66.90 % - Captura pela Armadilha B = 33.10 %\n",
            "Partindo da casa 5 Com 5000 Interações\n",
            "Captura pela Armadilha A = 51.04 % - Captura pela Armadilha B = 48.96 %\n",
            "Partindo da casa 6 Com 5000 Interações\n",
            "Captura pela Armadilha A = 32.96 % - Captura pela Armadilha B = 67.04 %\n",
            "Partindo da casa 7 Com 5000 Interações\n",
            "Captura pela Armadilha A = 49.08 % - Captura pela Armadilha B = 50.92 %\n",
            "Partindo da casa 8 Com 5000 Interações\n",
            "Captura pela Armadilha A = 33.50 % - Captura pela Armadilha B = 66.50 %\n"
          ]
        }
      ]
    },
    {
      "cell_type": "code",
      "source": [
        "# Criando a função de media de saltos, recebendo o parametro de interações necessarias\n",
        "def MediaSaltos(N): \n",
        "  #Loop que avança a partir da casa 2 até a casa 9\n",
        "  for i in range(2,9):\n",
        "    Saltos=[]\n",
        "    #Loop que faz a media de saltos na casa atual\n",
        "    for j in range(N+1):\n",
        "      #Resgata uma tupla com os valores obtido nas simulações\n",
        "      Resultado = Pulos(i)\n",
        "      #Salva a quantidade de saltos de cada interação \n",
        "      Saltos.append(Resultado[0])\n",
        "    #Media salva somente o valor inteiro da media, pois nao é possivel dar 4,35 saltos\n",
        "    Media=int(sum(Saltos) / N)\n",
        "    print(\"A media de saltos dados a partir da casa\",i,\"é de\",Media,\"Com \",N,\"Interações\")"
      ],
      "metadata": {
        "id": "jVLun77ztkK3"
      },
      "execution_count": null,
      "outputs": []
    },
    {
      "cell_type": "code",
      "source": [
        "MediaSaltos(5000)"
      ],
      "metadata": {
        "colab": {
          "base_uri": "https://localhost:8080/"
        },
        "id": "mn25zvcBuWkR",
        "outputId": "a253a08f-2926-4590-f539-5b9046283256"
      },
      "execution_count": null,
      "outputs": [
        {
          "output_type": "stream",
          "name": "stdout",
          "text": [
            "A media de saltos dados a partir da casa 2 é de 4 Com  5000 Interações\n",
            "A media de saltos dados a partir da casa 3 é de 6 Com  5000 Interações\n",
            "A media de saltos dados a partir da casa 4 é de 5 Com  5000 Interações\n",
            "A media de saltos dados a partir da casa 5 é de 6 Com  5000 Interações\n",
            "A media de saltos dados a partir da casa 6 é de 4 Com  5000 Interações\n",
            "A media de saltos dados a partir da casa 7 é de 6 Com  5000 Interações\n",
            "A media de saltos dados a partir da casa 8 é de 4 Com  5000 Interações\n"
          ]
        }
      ]
    },
    {
      "cell_type": "code",
      "source": [
        "def MediaVisitas(N):\n",
        "  #Loop que avança a partir da casa 2 até a casa 9\n",
        "  for i in range(2,9):\n",
        "    V5=[]\n",
        "  #Loop que faz a media de saltos na casa 5\n",
        "    for j in range(N+1):\n",
        "      #Resgata uma tupla com os valores obtido nas simulações\n",
        "      Resultado = Pulos(i)\n",
        "      #Salva a quantidade de saltos de cada interação \n",
        "      V5.append(Resultado[3])\n",
        "    #Media salva somente o valor inteiro da media, pois nao é possivel dar 4,35 saltos\n",
        "    Media=int(sum(V5) / N)\n",
        "    print(\"O numero de visitas a casa 5 partindo da casa\",i,\"é de em media\",Media,\"visitas Com \",N,\"Interações\")"
      ],
      "metadata": {
        "id": "8UEU_6Jxo3lu"
      },
      "execution_count": null,
      "outputs": []
    },
    {
      "cell_type": "code",
      "source": [
        "MediaVisitas(10000)"
      ],
      "metadata": {
        "colab": {
          "base_uri": "https://localhost:8080/"
        },
        "id": "WGm3NINMtlVs",
        "outputId": "e94b2f27-2f4e-4d53-e485-2afb7be0e89b"
      },
      "execution_count": null,
      "outputs": [
        {
          "output_type": "stream",
          "name": "stdout",
          "text": [
            "O numero de visitas a casa 5 partindo da casa 2 é de em media 1 visitas Com  10000 Interações\n",
            "O numero de visitas a casa 5 partindo da casa 3 é de em media 0 visitas Com  10000 Interações\n",
            "O numero de visitas a casa 5 partindo da casa 4 é de em media 1 visitas Com  10000 Interações\n",
            "O numero de visitas a casa 5 partindo da casa 5 é de em media 2 visitas Com  10000 Interações\n",
            "O numero de visitas a casa 5 partindo da casa 6 é de em media 1 visitas Com  10000 Interações\n",
            "O numero de visitas a casa 5 partindo da casa 7 é de em media 0 visitas Com  10000 Interações\n",
            "O numero de visitas a casa 5 partindo da casa 8 é de em media 1 visitas Com  10000 Interações\n"
          ]
        }
      ]
    },
    {
      "cell_type": "code",
      "source": [
        "def MediaVisita7(N):\n",
        "  V7=[]\n",
        "  for i in range(N+1): \n",
        "      #Resgata uma tupla com os valores obtido nas simulações\n",
        "      Resultado = Pulos(7)\n",
        "      #Salva a quantidade de saltos de cada interação \n",
        "      V7.append(Resultado[3])\n",
        "  Media=(sum(V7) / N)\n",
        "  print(\"O numero de visitas a casa 5 partindo da casa 7 é de em media\",Media,\"visitas Com \",N,\"Interações\")"
      ],
      "metadata": {
        "id": "iWqAp4Jpu97r"
      },
      "execution_count": null,
      "outputs": []
    },
    {
      "cell_type": "code",
      "source": [
        "MediaVisita7(10000)"
      ],
      "metadata": {
        "colab": {
          "base_uri": "https://localhost:8080/"
        },
        "id": "VZuAPtV5vT-2",
        "outputId": "4549ea1d-6078-480c-bc9e-3af59386fc19"
      },
      "execution_count": null,
      "outputs": [
        {
          "output_type": "stream",
          "name": "stdout",
          "text": [
            "O numero de visitas a casa 5 partindo da casa 7 é de em media 1.0035 visitas Com  10000 Interações\n"
          ]
        }
      ]
    }
  ]
}